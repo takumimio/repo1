{
 "cells": [
  {
   "cell_type": "markdown",
   "metadata": {},
   "source": [
    "# Python MySQL套件安裝方法請參考：https://segmentfault.com/a/1190000004143122"
   ]
  },
  {
   "cell_type": "code",
   "execution_count": 5,
   "metadata": {
    "collapsed": false
   },
   "outputs": [
    {
     "name": "stdout",
     "output_type": "stream",
     "text": [
      "create table if not exists price (amount float,compno float,adj_close float,high float,low float,date datetime,close float,open float)\n",
      "load data local infile 'C:/Users/BIG DATA/Desktop/stock/price1_price2_price3_merged.csv'into table price fields terminated by ',' lines terminated by '\\r'\n"
     ]
    }
   ],
   "source": [
    "# import MySQLdb套件\n",
    "import MySQLdb\n",
    "# 對資料庫做連線，其中user填帳號passwd填密碼，db填建立好的db名稱(我先在MySQL建了一個名為stock_system的資料庫因此填stock_system)\n",
    "db = MySQLdb.connect(host=\"localhost\",user=\"root\",passwd=\"19911115\",db=\"stock_system\",charset=\"utf8\")\n",
    "# 利用cursor()方法取得cursor物件，未來所有對資料庫的操作都要利用cursor.execute(sql)這段程式碼去執行SQL語句\n",
    "cursor = db.cursor()\n",
    "# 在Python中建立create table的字串如下\n",
    "# create_sql=\"create table if not exists price (amount float,compno float,adj_close float,high float,low float,date datetime,close float,open float)\"\n",
    "table_name=\"price\"\n",
    "create_sql=\"create table if not exists {} (amount float,compno float,adj_close float,high float,low float,date datetime,close float,open float)\".format(table_name)\n",
    "print create_sql\n",
    "# 在Python中建立load into table(將整個csv檔insert進入資料庫中的table，前提是table跟csv檔的schema要一致)的字串如下\n",
    "# load_sql=\"load data local infile 'C:/Users/BIG DATA/Desktop/stock/price1_price2_price3_merged.csv'into table price fields terminated by ',' lines terminated by '\\r'\"\n",
    "load_sql=\"load data local infile 'C:/Users/BIG DATA/Desktop/stock/price1_price2_price3_merged.csv'\"\n",
    "load_sql+=\"into table {} fields terminated by ',' \".format(table_name)\n",
    "load_sql+=\"lines terminated by '\\\\r'\"\n",
    "print load_sql\n",
    "# 執行create_sql\n",
    "cursor.execute(create_sql)\n",
    "# 執行load_sql\n",
    "cursor.execute(load_sql)\n",
    "# 關閉對資料庫的連線\n",
    "db.close()"
   ]
  },
  {
   "cell_type": "markdown",
   "metadata": {},
   "source": [
    "# 重複上述步驟，建立2005~2014年損益表table"
   ]
  },
  {
   "cell_type": "code",
   "execution_count": 3,
   "metadata": {
    "collapsed": false
   },
   "outputs": [
    {
     "name": "stdout",
     "output_type": "stream",
     "text": [
      "create table if not exists is2005 (compno float, compname varchar(20) not null, eps float, year varchar(10))\n",
      "load data local infile 'C:/Users/BIG DATA/Desktop/stock/is_utf8/2005.csv'into table is2005 fields terminated by ',' lines terminated by '\\r' ignore 1 lines\n",
      "create table if not exists is2006 (compno float, compname varchar(20) not null, eps float, year varchar(10))\n",
      "load data local infile 'C:/Users/BIG DATA/Desktop/stock/is_utf8/2006.csv'into table is2006 fields terminated by ',' lines terminated by '\\r' ignore 1 lines\n",
      "create table if not exists is2007 (compno float, compname varchar(20) not null, eps float, year varchar(10))\n",
      "load data local infile 'C:/Users/BIG DATA/Desktop/stock/is_utf8/2007.csv'into table is2007 fields terminated by ',' lines terminated by '\\r' ignore 1 lines\n",
      "create table if not exists is2008 (compno float, compname varchar(20) not null, eps float, year varchar(10))\n",
      "load data local infile 'C:/Users/BIG DATA/Desktop/stock/is_utf8/2008.csv'into table is2008 fields terminated by ',' lines terminated by '\\r' ignore 1 lines\n",
      "create table if not exists is2009 (compno float, compname varchar(20) not null, eps float, year varchar(10))\n",
      "load data local infile 'C:/Users/BIG DATA/Desktop/stock/is_utf8/2009.csv'into table is2009 fields terminated by ',' lines terminated by '\\r' ignore 1 lines\n",
      "create table if not exists is2010 (compno float, compname varchar(20) not null, eps float, year varchar(10))\n",
      "load data local infile 'C:/Users/BIG DATA/Desktop/stock/is_utf8/2010.csv'into table is2010 fields terminated by ',' lines terminated by '\\r' ignore 1 lines\n",
      "create table if not exists is2011 (compno float, compname varchar(20) not null, eps float, year varchar(10))\n",
      "load data local infile 'C:/Users/BIG DATA/Desktop/stock/is_utf8/2011.csv'into table is2011 fields terminated by ',' lines terminated by '\\r' ignore 1 lines\n",
      "create table if not exists is2012 (compno float, compname varchar(20) not null, eps float, year varchar(10))\n",
      "load data local infile 'C:/Users/BIG DATA/Desktop/stock/is_utf8/2012.csv'into table is2012 fields terminated by ',' lines terminated by '\\r' ignore 1 lines\n",
      "create table if not exists is2013 (compno float, compname varchar(20) not null, eps float, year varchar(10))\n",
      "load data local infile 'C:/Users/BIG DATA/Desktop/stock/is_utf8/2013.csv'into table is2013 fields terminated by ',' lines terminated by '\\r' ignore 1 lines\n",
      "create table if not exists is2014 (compno float, compname varchar(20) not null, eps float, year varchar(10))\n",
      "load data local infile 'C:/Users/BIG DATA/Desktop/stock/is_utf8/2014.csv'into table is2014 fields terminated by ',' lines terminated by '\\r' ignore 1 lines\n"
     ]
    }
   ],
   "source": [
    "import MySQLdb\n",
    "db = MySQLdb.connect(host=\"localhost\",user=\"root\",passwd=\"19911115\",db=\"stock_system\",charset=\"utf8\")\n",
    "cursor = db.cursor()\n",
    "year_list = ['2005','2006','2007','2008','2009','2010','2011','2012','2013','2014']\n",
    "for ele in year_list:\n",
    "    table_name=\"is{}\".format(ele)\n",
    "    create_sql=\"create table if not exists {} (compno float, compname varchar(20) not null, eps float, year varchar(10))\".format(table_name)\n",
    "    print create_sql\n",
    "    load_sql=\"load data local infile 'C:/Users/BIG DATA/Desktop/stock/is_utf8/{}.csv'\".format(ele)\n",
    "    load_sql+=\"into table {} fields terminated by ',' \".format(table_name)\n",
    "    load_sql+=\"lines terminated by '\\\\r' ignore 1 lines\"\n",
    "    print load_sql\n",
    "    #cursor.execute(create_sql)\n",
    "    #cursor.execute(load_sql)\n",
    "#db.commit()\n",
    "db.close()"
   ]
  },
  {
   "cell_type": "code",
   "execution_count": 44,
   "metadata": {
    "collapsed": true
   },
   "outputs": [],
   "source": [
    "db.commit()"
   ]
  },
  {
   "cell_type": "code",
   "execution_count": null,
   "metadata": {
    "collapsed": true
   },
   "outputs": [],
   "source": []
  }
 ],
 "metadata": {
  "kernelspec": {
   "display_name": "Python 2",
   "language": "python",
   "name": "python2"
  },
  "language_info": {
   "codemirror_mode": {
    "name": "ipython",
    "version": 2
   },
   "file_extension": ".py",
   "mimetype": "text/x-python",
   "name": "python",
   "nbconvert_exporter": "python",
   "pygments_lexer": "ipython2",
   "version": "2.7.11"
  }
 },
 "nbformat": 4,
 "nbformat_minor": 0
}
