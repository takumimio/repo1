{
 "cells": [
  {
   "cell_type": "code",
   "execution_count": 54,
   "metadata": {
    "collapsed": false
   },
   "outputs": [],
   "source": [
    "import requests\n",
    "from bs4 import BeautifulSoup\n",
    "url='http://goodinfo.tw/StockInfo/StockFinDetail.asp?STOCK_ID=2330&RPT_CAT=CF_M_YEAR&QRY_TIME=2010'\n",
    "res = requests.get(url)\n",
    "res.encoding = 'utf-8'\n",
    "soup=BeautifulSoup(res.text)\n",
    "tr1=soup.select('#row0')[0].select('td')\n",
    "tr2=soup.select('#row43')[0].select('td')\n",
    "tr3=soup.select('#row58')[0].select('td')\n",
    "tr4=soup.select('#row76')[0].select('td')\n",
    "tr5=soup.select('#row78')[0].select('td')\n",
    "tr6=soup.select('#row82')[0].select('td')"
   ]
  },
  {
   "cell_type": "code",
   "execution_count": 77,
   "metadata": {
    "collapsed": false
   },
   "outputs": [],
   "source": [
    "import csv\n",
    "\n",
    "with open('C:/Users/BIG DATA/Desktop/names.csv', 'w') as csvfile:\n",
    "    fieldnames = ['company_id', 'net_profit', 'cash_flow_from_operating_activities',\n",
    "                  'cash_flows_from_investing_activities', 'cash_flow_from_financing_activities',\n",
    "                  'net_cash_flows', 'cash_balances_end_of_period']\n",
    "    writer = csv.DictWriter(csvfile, fieldnames=fieldnames)\n",
    "    writer.writeheader()\n",
    "    a= tr1[1].text.encode('ascii','ignore').replace(',', '')\n",
    "    b= tr2[1].text.encode('ascii','ignore').replace(',', '')\n",
    "    c= tr3[1].text.encode('ascii','ignore').replace(',', '')\n",
    "    d= tr4[1].text.encode('ascii','ignore').replace(',', '')\n",
    "    e= tr5[1].text.encode('ascii','ignore').replace(',', '')\n",
    "    f= tr6[1].text.encode('ascii','ignore').replace(',', '')\n",
    "    \n",
    "    \n",
    "    writer.writerow({'company_id':'aaa', 'net_profit':a, 'cash_flow_from_operating_activities':b,\n",
    "                   'cash_flows_from_investing_activities':c,'cash_flow_from_financing_activities':d,\n",
    "                    'net_cash_flows':e,'cash_balances_end_of_period':f})\n",
    "    \n",
    "    "
   ]
  },
  {
   "cell_type": "code",
   "execution_count": 64,
   "metadata": {
    "collapsed": true
   },
   "outputs": [],
   "source": [
    "import csv\n",
    "\n",
    "with open('C:/Users/BIG DATA/Desktop/names1.csv', 'w') as csvfile:\n",
    "    fieldnames = ['first_name', 'last_name']\n",
    "    writer = csv.DictWriter(csvfile, fieldnames=fieldnames)\n",
    "\n",
    "    writer.writeheader()\n",
    "    writer.writerow({'first_name': 'Baked', 'last_name': 'Beans'})\n",
    "    writer.writerow({'first_name': 'Lovely', 'last_name': 'Spam'})\n",
    "    writer.writerow({'first_name': 'Wonderful', 'last_name': 'Spam'})"
   ]
  },
  {
   "cell_type": "code",
   "execution_count": null,
   "metadata": {
    "collapsed": true
   },
   "outputs": [],
   "source": []
  }
 ],
 "metadata": {
  "kernelspec": {
   "display_name": "Python 2",
   "language": "python",
   "name": "python2"
  },
  "language_info": {
   "codemirror_mode": {
    "name": "ipython",
    "version": 2
   },
   "file_extension": ".py",
   "mimetype": "text/x-python",
   "name": "python",
   "nbconvert_exporter": "python",
   "pygments_lexer": "ipython2",
   "version": "2.7.11"
  }
 },
 "nbformat": 4,
 "nbformat_minor": 0
}
