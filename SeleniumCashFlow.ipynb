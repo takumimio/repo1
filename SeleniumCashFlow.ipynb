{
 "cells": [
  {
   "cell_type": "code",
   "execution_count": 2,
   "metadata": {
    "collapsed": false
   },
   "outputs": [],
   "source": [
    "import csv\n",
    "import unicodecsv\n",
    "import re\n",
    "with open('/Users/haozhan/desktop/ST.csv', 'rb') as csvfile:\n",
    "    spamreader = csv.reader(csvfile, delimiter=' ', quotechar='|')\n",
    "    i=0\n",
    "    li=[]\n",
    "    for row in spamreader:\n",
    "        a = ', '.join(row)\n",
    "        b = a.split('?,')\n",
    "        \n",
    "        for ele in b:\n",
    "            m = re.match('\\d', ele)\n",
    "            \n",
    "            if m:\n",
    "                li.append(ele)\n",
    "                i+=1\n"
   ]
  },
  {
   "cell_type": "code",
   "execution_count": 12,
   "metadata": {
    "collapsed": false
   },
   "outputs": [
    {
     "name": "stdout",
     "output_type": "stream",
     "text": [
      "股票代碼:1454?,台富?,4930?,燦星網?,2015?,豐興＃?,3545?,敦泰?,6414?,樺漢＃?,2412?,中華電＊?,3042?,晶技?,2354?,鴻準＊?,9906?,欣巴巴?,2908?,特力?,9940?,信義?,6603?,富強鑫?,2035?,唐榮?,3071?,協禧?,5371?,中光電?,3313?,斐成?,8121?,越峰?,6187?,萬潤?,3086?,華義?,,,,的現金流量表有7個列\n",
      "股票代碼:1454?,台富?,4930?,燦星網?,2015?,豐興＃?,3545?,敦泰?,6414?,樺漢＃?,2412?,中華電＊?,3042?,晶技?,2354?,鴻準＊?,9906?,欣巴巴?,2908?,特力?,9940?,信義?,6603?,富強鑫?,2035?,唐榮?,3071?,協禧?,5371?,中光電?,3313?,斐成?,8121?,越峰?,6187?,萬潤?,3086?,華義?,,,,的現金流量表有11個欄位\n",
      "股票代碼:1454?,台富?,4930?,燦星網?,2015?,豐興＃?,3545?,敦泰?,6414?,樺漢＃?,2412?,中華電＊?,3042?,晶技?,2354?,鴻準＊?,9906?,欣巴巴?,2908?,特力?,9940?,信義?,6603?,富強鑫?,2035?,唐榮?,3071?,協禧?,5371?,中光電?,3313?,斐成?,8121?,越峰?,6187?,萬潤?,3086?,華義?,,,,的現金流量表有7個列\n",
      "股票代碼:1454?,台富?,4930?,燦星網?,2015?,豐興＃?,3545?,敦泰?,6414?,樺漢＃?,2412?,中華電＊?,3042?,晶技?,2354?,鴻準＊?,9906?,欣巴巴?,2908?,特力?,9940?,信義?,6603?,富強鑫?,2035?,唐榮?,3071?,協禧?,5371?,中光電?,3313?,斐成?,8121?,越峰?,6187?,萬潤?,3086?,華義?,,,,的現金流量表有11個欄位\n"
     ]
    }
   ],
   "source": [
    "from selenium import webdriver\n",
    "from selenium.webdriver.common.by import By\n",
    "from selenium.webdriver.common.keys import Keys\n",
    "from selenium.webdriver.support.ui import Select\n",
    "from selenium.common.exceptions import NoSuchElementException\n",
    "from selenium.common.exceptions import NoAlertPresentException\n",
    "import unittest, time, re\n",
    "from bs4 import BeautifulSoup\n",
    "\n",
    "for num in li[0:2]:\n",
    "    driver = webdriver.Chrome('/Users/haozhan/desktop/chromedriver')\n",
    "    driver.implicitly_wait(30)\n",
    "    base_url = \"http://2330.tw/\"  \n",
    "    driver.get(base_url + \"/Stock_Quote.aspx?id=2330\")\n",
    "    driver.find_element_by_id(\"ContentPlaceHolder1_stockid\").send_keys(num)\n",
    "    driver.find_element_by_id(\"ContentPlaceHolder1_Button1\").click()\n",
    "    driver.find_element_by_link_text(u\"現金流量\").click()\n",
    "    soup = BeautifulSoup(driver.page_source)\n",
    "    tbl = soup.select('#tableview1')[0]\n",
    "    \n",
    "    trs = tbl.select('tr')\n",
    "    print '股票代碼:' + str(a) + '的現金流量表有' + str(len(trs)) + '個列'\n",
    "    print '股票代碼:' + str(a) + '的現金流量表有' + str(len(tbl.select('tr')[0])) + '個欄位'\n",
    "    cols = trs[0].select('td')\n",
    "    fieldnames=[]\n",
    "    fieldnames.append(cols[0].text.encode('big5'))\n",
    "    for col in cols[1:]:\n",
    "        fieldnames.append(col.text.encode('big5'))\n",
    "    with open('/Users/haozhan/desktop/cashflow/{}.csv'.format(num), 'w') as csvfile:\n",
    "        writer = csv.DictWriter(csvfile, fieldnames=fieldnames)\n",
    "        writer.writeheader()\n",
    "        #dict['School'] = \"DPS School\"\n",
    "         \n",
    "        for i in range(1,len(trs)):\n",
    "            dic={}\n",
    "            tr=trs[i]\n",
    "            dic[fieldnames[0]]=tr.select('td')[0].text.encode('big5')\n",
    "            for k in range(1,len(tbl.select('tr')[0])):\n",
    "                dic[fieldnames[k]]=tr.select('td')[k].text.encode('utf-8')\n",
    "            writer.writerow(dic)\n",
    "    \n",
    "    driver.close()\n",
    "    f = open('/Users/haozhan/desktop/txt/{}.txt'.format(num), 'w')\n",
    "    f.write(soup.text.encode('utf-8'))\n",
    "    f.close()\n",
    " "
   ]
  },
  {
   "cell_type": "code",
   "execution_count": null,
   "metadata": {
    "collapsed": true
   },
   "outputs": [],
   "source": []
  },
  {
   "cell_type": "code",
   "execution_count": null,
   "metadata": {
    "collapsed": false
   },
   "outputs": [],
   "source": []
  },
  {
   "cell_type": "code",
   "execution_count": null,
   "metadata": {
    "collapsed": false
   },
   "outputs": [],
   "source": []
  },
  {
   "cell_type": "code",
   "execution_count": null,
   "metadata": {
    "collapsed": true
   },
   "outputs": [],
   "source": []
  }
 ],
 "metadata": {
  "kernelspec": {
   "display_name": "Python 2",
   "language": "python",
   "name": "python2"
  },
  "language_info": {
   "codemirror_mode": {
    "name": "ipython",
    "version": 2
   },
   "file_extension": ".py",
   "mimetype": "text/x-python",
   "name": "python",
   "nbconvert_exporter": "python",
   "pygments_lexer": "ipython2",
   "version": "2.7.11"
  }
 },
 "nbformat": 4,
 "nbformat_minor": 0
}
